{
 "cells": [
  {
   "cell_type": "markdown",
   "metadata": {},
   "source": [
    "Faça um programa em Python que conte o número de vogais em um arquivo de texto. As vogais devem ser contadas de forma individual. Use o texto anexado à atividade para fazer o desafio. Dica: Fique atento a letras com acentos"
   ]
  },
  {
   "cell_type": "code",
   "execution_count": 7,
   "metadata": {},
   "outputs": [
    {
     "name": "stdout",
     "output_type": "stream",
     "text": [
      "Você não escolheu uma vogal!\n",
      "A vogal S apareceu 0 vezes\n"
     ]
    }
   ],
   "source": [
    "nome = \"exagerado_letra.txt\"\n",
    "vogal = input(\"Escolha uma vogal para buscar na letra de música 'Exagerados': \")\n",
    "\n",
    "arquivo = open(nome, \"r\", encoding=\"utf-8\")\n",
    "\n",
    "conteudo = arquivo.read().lower()\n",
    "\n",
    "# Vogais acentudas e não acentuadas\n",
    "vogais_acentuadas = {\n",
    "    'a': ['a', 'á', 'â', 'ã', 'à'],\n",
    "    'e': ['e', 'é', 'ê'],\n",
    "    'i': ['i', 'í'],\n",
    "    'o': ['o', 'ó', 'ô', 'õ'],\n",
    "    'u': ['u', 'ú', 'ü']\n",
    "}\n",
    "\n",
    "# Contador de vogais que o usuário digitou\n",
    "contagem = 0\n",
    "\n",
    "# Verificação se a vogal digitada está no dicionário de vogais_acentuadas\n",
    "if vogal in vogais_acentuadas:\n",
    "    # Contagem de todas as variações de vogais na letra da música\n",
    "    for variacao in vogais_acentuadas[vogal]:\n",
    "        contagem += conteudo.count(variacao)\n",
    "else:\n",
    "    print(\"Você não escolheu uma vogal!\")\n",
    "\n",
    "print(f\"A vogal {vogal.upper()} apareceu {contagem} vezes\")\n",
    "\n",
    "# Fechar o arquivo para evitar vazamento de memória\n",
    "arquivo.close()\n"
   ]
  }
 ],
 "metadata": {
  "kernelspec": {
   "display_name": "Python 3",
   "language": "python",
   "name": "python3"
  },
  "language_info": {
   "codemirror_mode": {
    "name": "ipython",
    "version": 3
   },
   "file_extension": ".py",
   "mimetype": "text/x-python",
   "name": "python",
   "nbconvert_exporter": "python",
   "pygments_lexer": "ipython3",
   "version": "3.12.4"
  }
 },
 "nbformat": 4,
 "nbformat_minor": 2
}
